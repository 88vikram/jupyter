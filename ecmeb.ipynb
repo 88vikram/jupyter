{
 "cells": [
  {
   "cell_type": "code",
   "execution_count": null,
   "metadata": {
    "pycharm": {
     "is_executing": true
    }
   },
   "outputs": [],
   "source": "import pandas as pd\nimport datetime\nfrom pathlib import Path\nfrom tadpole.models import ECMEB\n\ntrain_set_path = Path(\"../data/TADPOLE_D1_D2.csv\")\ntest_set_path = Path(\"../data/tadpole_test_set.csv\")\ntest_set_df = pd.read_csv(test_set_path)\n\n# select last row per RID\ntest_set_df = test_set_df.sort_values(by=['EXAMDATE'])\ntest_set_df = test_set_df.groupby('RID').tail(1)\n\ntest_set_df = test_set_df.fillna(0)\n\n\nmodel = ECMEB()\nmodel.train(train_set_path)\n\nprint(model.predict(test_set_df.iloc[0], datetime.datetime.now()))"
  }
 ],
 "metadata": {
  "kernelspec": {
   "display_name": "Python 3",
   "language": "python",
   "name": "python3"
  },
  "language_info": {
   "codemirror_mode": {
    "name": "ipython",
    "version": 3
   },
   "file_extension": ".py",
   "mimetype": "text/x-python",
   "name": "python",
   "nbconvert_exporter": "python",
   "pygments_lexer": "ipython3",
   "version": "3.7.3"
  }
 },
 "nbformat": 4,
 "nbformat_minor": 4
}
