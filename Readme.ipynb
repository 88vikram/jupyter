{
 "cells": [
  {
   "cell_type": "markdown",
   "metadata": {},
   "source": [
    "# Tadpole-Share\n",
    "\n",
    "## Libraries\n",
    "If your algorithm requires additional libraries that are installable through `pip` or `conda`, please put them in [environment.yml](/lab/tree/environment.yml).\n",
    "\n",
    "A second option is to put the library in [/lib](/lab/tree/lib/). Any dependencies in `requirements.txt` will be installed. You can write a minimal `setup.py` file (e.g. [pyebm/setup.py](/lab/tree/lib/pyemb/setup.py), so that your library can simply be imported from anywhere within the notebook (e.g. `from pyebm import ebm`).\n",
    "\n",
    "## Algorithms\n",
    "Please put all models in a subfolder of [tadpole/models](/lab/tree/tadpole/models), with the main class defined in a file called `__init__.py`.\n",
    "\n",
    "Ideally your class implements at least the two methods `train` and `predict`. `train` accepts a single argument `train_set_path`, this should be a path string to the `TADPOLE_D1_D2.csv` file, or to a file with the same format.\n",
    "\n",
    "`predict` requires two arguments: \n",
    "- `test_series`: A Pandas [Series](https://pandas.pydata.org/pandas-docs/stable/reference/api/pandas.Series.html) with the same columns as in the `TADPOLE_D1_D2.csv` dataset; observation to make a future prediction for.\n",
    "- `predict_datetime`: A [datetime](https://docs.python.org/3/library/datetime.html#datetime.datetime) for which a prediction is requested. The model should return a prediction dict with the following keys:\n",
    "    - `CN relative probability`\n",
    "    - `MCI relative probability`\n",
    "    - `AD relative probability`\n",
    "    - `ADAS13`\n",
    "    - `ADAS13 50% CI lower`\n",
    "    - `ADAS13 50% CI upper`\n",
    "    - `Ventricles_ICV`\n",
    "    - `Ventricles_ICV 50% CI lower`\n",
    "    - `Ventricles_ICV 50% CI upper`\n",
    "\n",
    "Good examples to start from are [SimpleSVM](/lab/tree/tadpole/models/simple_svm/__init__.py) or [ECMEB](/lab/tree/tadpole/models/ecmeb/__init__.py).\n",
    "\n",
    "See the example notebooks for [SimpleSVM](/lab/tree/notebooks/simple_svm.ipynb) or [ECMEB](/lab/tree/notebooks/ecmeb.ipynb) for examples on how to use the algorithm interface.\n",
    "\n"
   ]
  }
 ],
 "metadata": {
  "kernelspec": {
   "display_name": "tadpole",
   "language": "python",
   "name": "tadpole"
  },
  "language_info": {
   "codemirror_mode": {
    "name": "ipython",
    "version": 3
   },
   "file_extension": ".py",
   "mimetype": "text/x-python",
   "name": "python",
   "nbconvert_exporter": "python",
   "pygments_lexer": "ipython3",
   "version": "3.7.3"
  }
 },
 "nbformat": 4,
 "nbformat_minor": 4
}
