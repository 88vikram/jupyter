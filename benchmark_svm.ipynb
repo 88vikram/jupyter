{
 "cells": [
  {
   "cell_type": "code",
   "execution_count": 1,
   "metadata": {
    "pycharm": {}
   },
   "outputs": [
    {
     "name": "stderr",
     "output_type": "stream",
     "text": [
      "/home/tom/miniconda3/envs/tadpole/lib/python3.7/site-packages/IPython/core/interactiveshell.py:3058: DtypeWarning: Columns (471,473,474,487,488,489,490,491,492,493,494,495,496,497,498,499,500,501,502,503,504,505,506,507,508,509,510,511,512,513,514,515,516,517,518,519,520,521,522,523,524,525,526,527,528,529,530,531,532,533,534,535,536,537,538,539,540,541,542,543,544,545,546,547,548,549,550,551,552,553,554,555,556,557,558,559,560,561,562,563,569,570,572,573,574,575,576,577,578,579,580,581,582,583,584,585,586,587,588,589,590,591,592,593,594,595,596,597,599,601,606,607,608,609,610,611,612,613,614,615,616,617,618,619,620,621,624,625,626,627,628,629,630,631,632,633,634,636,637,638,639,640,641,642,643,644,645,646,647,648,649,650,651,652,653,654,655,656,657,658,659,660,661,663,664,665,666,667,668,669,670,671,672,673,674,675,676,677,678,679,680,681,682,683,684,685,686,687,688,689,690,691,692,693,694,695,696,697,698,699,700,701,702,703,704,705,706,707,708,709,710,711,712,713,714,715,716,717,718,719,720,721,722,723,724,725,726,727,728,729,730,731,732,733,734,735,736,737,738,739,745,746,748,749,750,751,752,753,754,755,756,757,758,759,760,761,762,763,764,765,766,767,770,771,776,777,778,779,780,781,782,783,784,785,786,787,788,789,790,791,794,795,797,798,799,800,801,802,803,804,806,807,808,809,810,811,812,813,814,815,816,817,818,819,820,821,822,823,824,825,826,827,828,829,830,831) have mixed types. Specify dtype option on import or set low_memory=False.\n",
      "  interactivity=interactivity, compiler=compiler, result=result)\n"
     ]
    }
   ],
   "source": [
    "import pandas as pd\n",
    "import datetime\n",
    "from pathlib import Path\n",
    "from tadpole_algorithms.models import BenchmarkSVM\n",
    "from tadpole_algorithms.preprocessing.split import split_test_train\n",
    "\n",
    "data_path = Path(\"data/TADPOLE_D1_D2.csv\")\n",
    "data_df = pd.read_csv(data_path)\n",
    "\n",
    "split_fraction = 0.1\n",
    "\n",
    "train_df, test_df, eval_df = split_test_train(data_df, split_fraction)\n",
    "test_df = test_df.fillna(0)\n",
    "\n",
    "model = BenchmarkSVM()\n",
    "model.train(train_df)\n",
    "\n",
    "forecast_df = model.predict(test_df)"
   ]
  },
  {
   "cell_type": "code",
   "execution_count": 2,
   "metadata": {},
   "outputs": [
    {
     "name": "stdout",
     "output_type": "stream",
     "text": [
      "[[36  0  0]\n",
      " [ 7 23  1]\n",
      " [25  6 22]]\n"
     ]
    },
    {
     "name": "stderr",
     "output_type": "stream",
     "text": [
      "/home/tom/Projects/tadpole/tadpole-algorithms/tadpole_algorithms/evaluation/__init__.py:224: RuntimeWarning: divide by zero encountered in true_divide\n",
      "  adasCoeffs = 1 / (adasEstimUp - adasEstimLo)\n",
      "/home/tom/Projects/tadpole/tadpole-algorithms/tadpole_algorithms/evaluation/__init__.py:225: RuntimeWarning: invalid value encountered in double_scalars\n",
      "  adasWES = np.sum(adasCoeffs * np.abs(adasEstim - trueADASFilt)) / np.sum(adasCoeffs)\n",
      "/home/tom/Projects/tadpole/tadpole-algorithms/tadpole_algorithms/evaluation/__init__.py:227: RuntimeWarning: divide by zero encountered in true_divide\n",
      "  ventsCoeffs = 1 / (ventriclesEstimUp - ventriclesEstimLo)\n",
      "/home/tom/Projects/tadpole/tadpole-algorithms/tadpole_algorithms/evaluation/__init__.py:228: RuntimeWarning: invalid value encountered in double_scalars\n",
      "  ventsWES = np.sum(ventsCoeffs * np.abs(ventriclesEstim - trueVentsFilt)) / np.sum(ventsCoeffs)\n"
     ]
    },
    {
     "data": {
      "text/plain": [
       "(0.7018608198623304,\n",
       " 0.862833070693018,\n",
       " 13.276965746329555,\n",
       " 42089.25394733456,\n",
       " nan,\n",
       " nan,\n",
       " 0.5,\n",
       " 0.5,\n",
       " array([-3.67500201e+00,  1.79075028e+01, -3.67500201e+00, -3.67500201e+00,\n",
       "        -3.67500201e+00,  8.95474840e+00, -3.67500201e+00,  2.85326861e+01,\n",
       "         1.82502270e+01,  1.34449238e+01, -3.67500201e+00, -3.67500201e+00,\n",
       "        -3.67500201e+00,  2.24046573e+01, -3.67500201e+00, -3.67500201e+00,\n",
       "         1.76389582e+01, -3.67500201e+00, -3.67500201e+00, -3.67500201e+00,\n",
       "        -3.67500201e+00,  2.68808691e+01, -3.67500201e+00,  7.10067012e+00,\n",
       "         2.33343122e+01, -3.67500201e+00,  2.68794470e+01, -3.67500201e+00,\n",
       "        -3.67500201e+00, -3.67500201e+00,  7.24093798e+00,  2.29555747e+01,\n",
       "        -3.67500201e+00,  2.30721875e+01,  3.18865719e+01, -3.67500201e+00,\n",
       "        -3.67500201e+00, -3.67500201e+00, -3.67500201e+00,  3.39427853e+01,\n",
       "         1.33759810e+01,  3.79589792e+01,  9.88601670e+00, -3.67500201e+00,\n",
       "        -3.67500201e+00,  4.01737023e+01, -3.67500201e+00,  2.48442679e+01,\n",
       "         2.77657307e+01, -3.67500201e+00, -3.67500201e+00, -3.67500201e+00,\n",
       "        -3.67500201e+00, -3.67500201e+00,  1.36613086e+01,  2.05948078e+01,\n",
       "        -2.29223483e+00, -3.67500201e+00,  1.43312075e+01,  1.44786173e+01,\n",
       "         8.78792536e+00,  8.74776647e+00,  1.61037749e+01,  1.96489096e+01,\n",
       "         5.16953902e+01,  4.77338740e+00, -3.67500201e+00, -3.67500201e+00,\n",
       "         1.16723564e+01, -3.67500201e+00, -3.67500201e+00,  4.44181905e+00,\n",
       "         1.34449238e+01,  1.25586401e+01,  2.67836128e+01,  4.81217225e+00,\n",
       "         9.75952118e+00, -1.39650989e+00, -3.67500201e+00,  2.80951954e+00,\n",
       "        -3.67500201e+00,  5.54134268e+00,  7.80425851e+00,  1.34449238e+01,\n",
       "         3.35585945e+01,  4.37188371e+01,  3.30834328e+01,  9.49429948e+00,\n",
       "         6.35465429e+00, -3.67500201e+00,  1.64004370e+00,  1.18126243e+01,\n",
       "         6.82313127e+00,  1.07860727e+01,  4.44181905e+00,  1.06998376e-01,\n",
       "         8.12722167e+00, -3.67500201e+00,  3.85831200e+01,  2.31940444e+01,\n",
       "         9.07346091e+00,  9.89978905e+00,  1.04006118e-02,  1.16723564e+01,\n",
       "         4.34883373e+01, -3.67500201e+00,  2.26449736e+01,  4.16923135e+01,\n",
       "         4.40884053e+00,  2.60517137e+01,  6.58273972e+00,  2.77657307e+01,\n",
       "         7.10067012e+00,  2.66925168e+00,  6.21438643e+00,  6.21438643e+00,\n",
       "         1.25239558e+01,  1.15320886e+01, -1.66790814e+00,  6.21438643e+00]),\n",
       " 5740     47.00\n",
       " 77       12.00\n",
       " 5887     14.00\n",
       " 212      37.00\n",
       " 5962     24.33\n",
       " 11750     7.00\n",
       " 266      31.00\n",
       " 306      28.33\n",
       " 12369    18.00\n",
       " 12393    10.00\n",
       " 390      30.33\n",
       " 519      14.67\n",
       " 534      37.67\n",
       " 680      30.00\n",
       " 11046     3.00\n",
       " 773      24.67\n",
       " 944      26.00\n",
       " 6782     37.67\n",
       " 1023     23.67\n",
       " 1061      9.33\n",
       " 1148      8.67\n",
       " 11972    27.00\n",
       " 1264     68.00\n",
       " 12641    10.00\n",
       " 12725    27.00\n",
       " 1533     14.33\n",
       " 11986    36.00\n",
       " 11268    19.00\n",
       " 7615      7.00\n",
       " 1803     58.67\n",
       "          ...  \n",
       " 12383     4.00\n",
       " 11848     8.00\n",
       " 12504    10.00\n",
       " 12499    16.00\n",
       " 12528    12.00\n",
       " 12454     2.00\n",
       " 12541    16.00\n",
       " 12156    27.00\n",
       " 11265    35.00\n",
       " 12160    27.00\n",
       " 12166    12.00\n",
       " 12597     7.00\n",
       " 12297     5.00\n",
       " 12646    16.00\n",
       " 12209    47.00\n",
       " 10532    37.00\n",
       " 11435    16.00\n",
       " 5607     44.00\n",
       " 11503     8.00\n",
       " 11407    32.00\n",
       " 11818     9.00\n",
       " 10847    38.00\n",
       " 12224    10.00\n",
       " 11954     3.00\n",
       " 12229     5.00\n",
       " 12233     5.00\n",
       " 11271    16.00\n",
       " 12246    12.00\n",
       " 10745    34.00\n",
       " 12256    10.00\n",
       " Name: ADAS13, Length: 120, dtype: float64)"
      ]
     },
     "execution_count": 2,
     "metadata": {},
     "output_type": "execute_result"
    }
   ],
   "source": [
    "from tadpole_algorithms.evaluation import evaluate_forecast\n",
    "\n",
    "evaluate_forecast(eval_df, forecast_df)"
   ]
  }
 ],
 "metadata": {
  "kernelspec": {
   "display_name": "Python 3",
   "language": "python",
   "name": "python3"
  },
  "language_info": {
   "codemirror_mode": {
    "name": "ipython",
    "version": 3
   },
   "file_extension": ".py",
   "mimetype": "text/x-python",
   "name": "python",
   "nbconvert_exporter": "python",
   "pygments_lexer": "ipython3",
   "version": "3.7.3"
  }
 },
 "nbformat": 4,
 "nbformat_minor": 4
}
