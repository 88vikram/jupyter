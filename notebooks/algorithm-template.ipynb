{
 "cells": [
  {
   "cell_type": "markdown",
   "metadata": {},
   "source": [
    "# Algorithm Name\n",
    "\n",
    "Add some descriptive information about the algorithm and/or a link to the github repository or other useful information."
   ]
  },
  {
   "cell_type": "code",
   "execution_count": null,
   "metadata": {},
   "outputs": [],
   "source": [
    "%load_ext autoreload\n",
    "%autoreload 2"
   ]
  },
  {
   "cell_type": "markdown",
   "metadata": {},
   "source": [
    "## Inputs and outputs\n",
    "\n",
    "Need to be adjusted by the user for use on their computer or research cloud."
   ]
  },
  {
   "cell_type": "code",
   "execution_count": null,
   "metadata": {},
   "outputs": [],
   "source": [
    "import os\n",
    "\n",
    "out_dir = '/Users/jvdzwaan/data/TADPOLE/tmp'\n",
    "\n",
    "data_dir = '/Users/jvdzwaan/data/TADPOLE/data/'\n",
    "\n",
    "tadpoleD1D2file = os.path.join(data_dir, 'TADPOLE_D1_D2.csv')\n",
    "tadpoleLB1LB2File = os.path.join(data_dir, 'TADPOLE_LB1_LB2.csv')\n",
    "tadpoleD3file = os.path.join(data_dir, 'TADPOLE_D3.csv')\n",
    "\n",
    "# ground truth (dummy)\n",
    "ref_file = os.path.join(data_dir, 'D4_dummy.csv')"
   ]
  },
  {
   "cell_type": "markdown",
   "metadata": {},
   "source": [
    "## Algorithm settings\n",
    "\n",
    "Algorithm specific settings with default values. These settings can be adjusted by the user.\n",
    "\n",
    "Maybe add an explanation about what the settings mean."
   ]
  },
  {
   "cell_type": "code",
   "execution_count": null,
   "metadata": {},
   "outputs": [],
   "source": []
  },
  {
   "cell_type": "markdown",
   "metadata": {},
   "source": [
    "## Preprocessing\n",
    "\n",
    "Create the input files we need for training from the input files we have. \n",
    "\n",
    "There probably is some additional algorithm-specific preprocessing."
   ]
  },
  {
   "cell_type": "code",
   "execution_count": null,
   "metadata": {},
   "outputs": [],
   "source": []
  },
  {
   "cell_type": "markdown",
   "metadata": {},
   "source": [
    "## Training"
   ]
  },
  {
   "cell_type": "code",
   "execution_count": null,
   "metadata": {},
   "outputs": [],
   "source": []
  },
  {
   "cell_type": "markdown",
   "metadata": {},
   "source": [
    "## Predict (Testing)"
   ]
  },
  {
   "cell_type": "markdown",
   "metadata": {},
   "source": [
    "## Evaluation\n",
    "\n",
    "And saving the output to file."
   ]
  }
 ],
 "metadata": {
  "language_info": {
   "name": "python",
   "pygments_lexer": "ipython3"
  }
 },
 "nbformat": 4,
 "nbformat_minor": 2
}
