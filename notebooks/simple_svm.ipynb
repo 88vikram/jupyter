{
 "cells": [
  {
   "cell_type": "code",
   "execution_count": 11,
   "metadata": {},
   "outputs": [
    {
     "name": "stderr",
     "output_type": "stream",
     "text": [
      "/home/tom/miniconda3/envs/tadpole/lib/python3.7/site-packages/IPython/core/interactiveshell.py:3049: DtypeWarning: Columns (471,473,474,487,488,489,490,491,492,493,494,495,496,497,498,499,500,501,502,503,504,505,506,507,508,509,510,511,512,513,514,515,516,517,518,519,520,521,522,523,524,525,526,527,528,529,530,531,532,533,534,535,536,537,538,539,540,541,542,543,544,545,546,547,548,549,550,551,552,553,554,555,556,557,558,559,560,561,562,563,569,570,572,573,574,575,576,577,578,579,580,581,582,583,584,585,586,587,588,589,590,591,592,593,594,595,596,597,599,601,606,607,608,609,610,611,612,613,614,615,616,617,618,619,620,621,624,625,626,627,628,629,630,631,632,633,634,636,637,638,639,640,641,642,643,644,645,646,647,648,649,650,651,652,653,654,655,656,657,658,659,660,661,663,664,665,666,667,668,669,670,671,672,673,674,675,676,677,678,679,680,681,682,683,684,685,686,687,688,689,690,691,692,693,694,695,696,697,698,699,700,701,702,703,704,705,706,707,708,709,710,711,712,713,714,715,716,717,718,719,720,721,722,723,724,725,726,727,728,729,730,731,732,733,734,735,736,737,738,739,745,746,748,749,750,751,752,753,754,755,756,757,758,759,760,761,762,763,764,765,766,767,770,771,776,777,778,779,780,781,782,783,784,785,786,787,788,789,790,791,794,795,797,798,799,800,801,802,803,804,806,807,808,809,810,811,812,813,814,815,816,817,818,819,820,821,822,823,824,825,826,827,828,829,830,831) have mixed types. Specify dtype option on import or set low_memory=False.\n",
      "  interactivity=interactivity, compiler=compiler, result=result)\n"
     ]
    }
   ],
   "source": [
    "import pandas as pd\n",
    "import datetime\n",
    "from pathlib import Path\n",
    "from tadpole.models import SimpleSVM\n",
    "from tadpole.utils import test_train_split\n",
    "\n",
    "tadpoleD1D2File = Path(\"../data/TADPOLE_D1_D2.csv\")\n",
    "\n",
    "df = pd.read_csv(tadpoleD1D2File)\n",
    "\n",
    "# remove all rows without\n",
    "df = df[df[\"Ventricles\"].notnull()]\n",
    "df = df[df[\"DXCHANGE\"].notnull()]\n",
    "df = df[df[\"ADAS13\"].notnull()]\n",
    "\n",
    "train_df, test_df, ground_truth_df = test_train_split(df, 0.1)\n",
    "\n",
    "model = SimpleSVM()\n",
    "model.train(train_df)\n",
    "\n",
    "first_patient_id = test_df['RID'][0]\n",
    "prediction = model.predict(test_df[test_df['RID'] == first_patient_id], datetime.datetime.now())\n",
    "truth = ground_truth_df[ground_truth_df['RID'] == first_patient_id]\n",
    "\n",
    "# evaluate (prediction, truth)"
   ]
  },
  {
   "cell_type": "code",
   "execution_count": 5,
   "metadata": {},
   "outputs": [],
   "source": [
    "def average_time_between_visits(df):\n",
    "    df1 = df[['RID', 'EXAMDATE']].copy()\n",
    "    df1 = df1.sort_values(by=['RID', 'EXAMDATE'])\n",
    "    df1['EXAMDATE'] = df1['EXAMDATE'].map(lambda x: datetime.datetime.strptime(x, '%Y-%m-%d'))\n",
    "    # Get future value from each row's next row\n",
    "    df1[\"Future_EXAMDATE\"] = df1['EXAMDATE'].shift(-1)\n",
    "    # Drop each last row per patient\n",
    "    df1 = df1.drop(df1.groupby('RID').tail(1).index.values)\n",
    "    return (df1['Future_EXAMDATE']-df1['EXAMDATE']).mean()\n"
   ]
  },
  {
   "cell_type": "code",
   "execution_count": 7,
   "metadata": {},
   "outputs": [
    {
     "data": {
      "text/plain": [
       "Timedelta('207 days 07:53:03.860414')"
      ]
     },
     "execution_count": 7,
     "metadata": {},
     "output_type": "execute_result"
    }
   ],
   "source": [
    "average_time_between_visits(df)"
   ]
  },
  {
   "cell_type": "code",
   "execution_count": 10,
   "metadata": {},
   "outputs": [
    {
     "data": {
      "text/html": [
       "<div>\n",
       "<style scoped>\n",
       "    .dataframe tbody tr th:only-of-type {\n",
       "        vertical-align: middle;\n",
       "    }\n",
       "\n",
       "    .dataframe tbody tr th {\n",
       "        vertical-align: top;\n",
       "    }\n",
       "\n",
       "    .dataframe thead th {\n",
       "        text-align: right;\n",
       "    }\n",
       "</style>\n",
       "<table border=\"1\" class=\"dataframe\">\n",
       "  <thead>\n",
       "    <tr style=\"text-align: right;\">\n",
       "      <th></th>\n",
       "      <th>RID</th>\n",
       "      <th>PTID</th>\n",
       "      <th>VISCODE</th>\n",
       "      <th>SITE</th>\n",
       "      <th>D1</th>\n",
       "      <th>D2</th>\n",
       "      <th>COLPROT</th>\n",
       "      <th>ORIGPROT</th>\n",
       "      <th>EXAMDATE</th>\n",
       "      <th>DX_bl</th>\n",
       "      <th>...</th>\n",
       "      <th>PHASE_UPENNBIOMK9_04_19_17</th>\n",
       "      <th>BATCH_UPENNBIOMK9_04_19_17</th>\n",
       "      <th>KIT_UPENNBIOMK9_04_19_17</th>\n",
       "      <th>STDS_UPENNBIOMK9_04_19_17</th>\n",
       "      <th>RUNDATE_UPENNBIOMK9_04_19_17</th>\n",
       "      <th>ABETA_UPENNBIOMK9_04_19_17</th>\n",
       "      <th>TAU_UPENNBIOMK9_04_19_17</th>\n",
       "      <th>PTAU_UPENNBIOMK9_04_19_17</th>\n",
       "      <th>COMMENT_UPENNBIOMK9_04_19_17</th>\n",
       "      <th>update_stamp_UPENNBIOMK9_04_19_17</th>\n",
       "    </tr>\n",
       "  </thead>\n",
       "  <tbody>\n",
       "    <tr>\n",
       "      <th>0</th>\n",
       "      <td>3</td>\n",
       "      <td>011_S_0003</td>\n",
       "      <td>m24</td>\n",
       "      <td>11</td>\n",
       "      <td>1</td>\n",
       "      <td>0</td>\n",
       "      <td>ADNI1</td>\n",
       "      <td>ADNI1</td>\n",
       "      <td>2007-09-12</td>\n",
       "      <td>AD</td>\n",
       "      <td>...</td>\n",
       "      <td></td>\n",
       "      <td></td>\n",
       "      <td></td>\n",
       "      <td></td>\n",
       "      <td></td>\n",
       "      <td></td>\n",
       "      <td></td>\n",
       "      <td></td>\n",
       "      <td></td>\n",
       "      <td></td>\n",
       "    </tr>\n",
       "  </tbody>\n",
       "</table>\n",
       "<p>1 rows × 1907 columns</p>\n",
       "</div>"
      ],
      "text/plain": [
       "   RID        PTID VISCODE  SITE  D1  D2 COLPROT ORIGPROT    EXAMDATE DX_bl  \\\n",
       "0    3  011_S_0003     m24    11   1   0   ADNI1    ADNI1  2007-09-12    AD   \n",
       "\n",
       "   ...  PHASE_UPENNBIOMK9_04_19_17  BATCH_UPENNBIOMK9_04_19_17  \\\n",
       "0  ...                                                           \n",
       "\n",
       "  KIT_UPENNBIOMK9_04_19_17  STDS_UPENNBIOMK9_04_19_17  \\\n",
       "0                                                       \n",
       "\n",
       "  RUNDATE_UPENNBIOMK9_04_19_17 ABETA_UPENNBIOMK9_04_19_17  \\\n",
       "0                                                           \n",
       "\n",
       "  TAU_UPENNBIOMK9_04_19_17  PTAU_UPENNBIOMK9_04_19_17  \\\n",
       "0                                                       \n",
       "\n",
       "   COMMENT_UPENNBIOMK9_04_19_17  update_stamp_UPENNBIOMK9_04_19_17  \n",
       "0                                                                   \n",
       "\n",
       "[1 rows x 1907 columns]"
      ]
     },
     "execution_count": 10,
     "metadata": {},
     "output_type": "execute_result"
    }
   ],
   "source": [
    "truth"
   ]
  }
 ],
 "metadata": {
  "kernelspec": {
   "display_name": "Python 3",
   "language": "python",
   "name": "python3"
  },
  "language_info": {
   "codemirror_mode": {
    "name": "ipython",
    "version": 3
   },
   "file_extension": ".py",
   "mimetype": "text/x-python",
   "name": "python",
   "nbconvert_exporter": "python",
   "pygments_lexer": "ipython3",
   "version": "3.7.3"
  }
 },
 "nbformat": 4,
 "nbformat_minor": 2
}
