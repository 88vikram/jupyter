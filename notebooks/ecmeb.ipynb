{
 "cells": [
  {
   "cell_type": "code",
   "execution_count": null,
   "metadata": {},
   "outputs": [],
   "source": [
    "import pandas as pd\n",
    "import datetime\n",
    "from pathlib import Path\n",
    "from tadpole.models import ECMEB\n",
    "from tadpole.utils import test_train_split\n",
    "\n",
    "train_set_path = Path(\"../data/TADPOLE_D1_D2.csv\")\n",
    "test_set_path = Path(\"../data/tadpole_test_set.csv\")\n",
    "\n",
    "model = ECMEB()\n",
    "model.train(train_set_path)\n",
    "\n",
    "prediction = model.predict(test_set_path, datetime.datetime.now())\n",
    "prediction"
   ]
  },
  {
   "cell_type": "code",
   "execution_count": null,
   "metadata": {},
   "outputs": [],
   "source": [
    "prob_"
   ]
  }
 ],
 "metadata": {
  "kernelspec": {
   "display_name": "Python 3",
   "language": "python",
   "name": "python3"
  },
  "language_info": {
   "codemirror_mode": {
    "name": "ipython",
    "version": 3
   },
   "file_extension": ".py",
   "mimetype": "text/x-python",
   "name": "python",
   "nbconvert_exporter": "python",
   "pygments_lexer": "ipython3",
   "version": "3.7.3"
  }
 },
 "nbformat": 4,
 "nbformat_minor": 4
}
